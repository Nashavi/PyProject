{
 "cells": [
  {
   "cell_type": "code",
   "execution_count": 36,
   "metadata": {},
   "outputs": [],
   "source": [
    "def merge_sort(arr):\n",
    "    \n",
    "    out = []\n",
    "    \n",
    "    mid = len(arr)//2\n",
    "    \n",
    "    if len(arr) <=1:\n",
    "        return arr\n",
    "    \n",
    "    left = merge_sort(arr[:mid])\n",
    "    right = merge_sort(arr[mid:])\n",
    "    \n",
    "    i,j = 0,0\n",
    "    llen,rlen = len(left),len(right)\n",
    "    \n",
    "    while i <llen and j < rlen:\n",
    "        \n",
    "        if left[i] <right[j]:\n",
    "            out.append(left[i])\n",
    "            i += 1\n",
    "        else:\n",
    "            out.append(right[j])\n",
    "            j += 1\n",
    "    out += left[i:]\n",
    "    out += right[j:]\n",
    "        \n",
    "    return out"
   ]
  },
  {
   "cell_type": "code",
   "execution_count": 38,
   "metadata": {},
   "outputs": [
    {
     "data": {
      "text/plain": [
       "[1, 1, 2, 3, 4, 5, 5, 7, 44, 45]"
      ]
     },
     "execution_count": 38,
     "metadata": {},
     "output_type": "execute_result"
    }
   ],
   "source": [
    "merge_sort([2,4,5,1,1,5,3,45,7,44])"
   ]
  },
  {
   "cell_type": "code",
   "execution_count": 42,
   "metadata": {},
   "outputs": [],
   "source": [
    "def bbsort(arr):\n",
    "    \n",
    "    l = len(arr)\n",
    "    \n",
    "    swapped = True\n",
    "    \n",
    "    while swapped == True:\n",
    "        swapped = False\n",
    "        for i in range(l-1):\n",
    "            if arr[i] > arr[i+1]:\n",
    "                arr[i],arr[i+1] = arr[i+1],arr[i]\n",
    "                swapped = True\n",
    "    \n",
    "    return arr"
   ]
  },
  {
   "cell_type": "code",
   "execution_count": 45,
   "metadata": {},
   "outputs": [
    {
     "data": {
      "text/plain": [
       "[1, 1, 2, 3, 4, 5, 5, 7, 44, 45]"
      ]
     },
     "execution_count": 45,
     "metadata": {},
     "output_type": "execute_result"
    }
   ],
   "source": [
    "bbsort([2,4,5,1,1,5,3,45,7,44])"
   ]
  },
  {
   "cell_type": "code",
   "execution_count": 112,
   "metadata": {
    "collapsed": true
   },
   "outputs": [],
   "source": [
    "def Selection_sort(arr):\n",
    "    \n",
    "    for i in range(len(arr)):\n",
    "        minpos = i\n",
    "        for j in range(i,len(arr)):\n",
    "            if arr[j]< arr[minpos]:\n",
    "                minpos = j\n",
    "        arr[i],arr[minpos] = arr[minpos],arr[i]\n",
    "    return arr"
   ]
  },
  {
   "cell_type": "code",
   "execution_count": 113,
   "metadata": {},
   "outputs": [
    {
     "data": {
      "text/plain": [
       "[1, 2, 3, 5, 7]"
      ]
     },
     "execution_count": 113,
     "metadata": {},
     "output_type": "execute_result"
    }
   ],
   "source": [
    "Selection_sort([1,5,3,2,7])"
   ]
  },
  {
   "cell_type": "code",
   "execution_count": 114,
   "metadata": {},
   "outputs": [
    {
     "data": {
      "text/plain": [
       "[1, 1, 2, 3, 4, 5, 5, 7, 44, 45]"
      ]
     },
     "execution_count": 114,
     "metadata": {},
     "output_type": "execute_result"
    }
   ],
   "source": [
    "Selection_sort([2,4,5,1,1,5,3,45,7,44])"
   ]
  },
  {
   "cell_type": "code",
   "execution_count": 101,
   "metadata": {
    "collapsed": true
   },
   "outputs": [],
   "source": [
    "def binary_search(i,arr):\n",
    "    \n",
    "    if len(arr) == 0:\n",
    "        return False\n",
    "    \n",
    "    mid = len(arr)//2\n",
    "    \n",
    "    if arr[mid] == i:\n",
    "        return True\n",
    "    elif arr[mid] < i:\n",
    "        #mid already checked. Check from mid+1\n",
    "        return binary_search(i,arr[mid+1:])\n",
    "    else:\n",
    "        #mid already checked. Check upto mid\n",
    "        return binary_search(i,arr[:mid])\n",
    "    \n",
    "    return found"
   ]
  },
  {
   "cell_type": "code",
   "execution_count": 102,
   "metadata": {},
   "outputs": [
    {
     "data": {
      "text/plain": [
       "False"
      ]
     },
     "execution_count": 102,
     "metadata": {},
     "output_type": "execute_result"
    }
   ],
   "source": [
    "binary_search(10,[1,2,4,5,6])"
   ]
  },
  {
   "cell_type": "code",
   "execution_count": 111,
   "metadata": {},
   "outputs": [
    {
     "data": {
      "text/plain": [
       "True"
      ]
     },
     "execution_count": 111,
     "metadata": {},
     "output_type": "execute_result"
    }
   ],
   "source": [
    "binary_search(4,[1,2,4,5,6])"
   ]
  },
  {
   "cell_type": "code",
   "execution_count": 155,
   "metadata": {
    "collapsed": true
   },
   "outputs": [],
   "source": [
    "def insertion_srt(arr):\n",
    "    \n",
    "    for i in range(1,len(arr)):\n",
    "        curval = arr[i]\n",
    "        j = i\n",
    "        if curval < arr[j-1]:\n",
    "            while curval < arr[j-1] and j >0:\n",
    "                arr[j] = arr[j-1]\n",
    "                j -= 1\n",
    "            arr[j] = curval\n",
    "        \n",
    "    return arr"
   ]
  },
  {
   "cell_type": "code",
   "execution_count": 156,
   "metadata": {},
   "outputs": [
    {
     "data": {
      "text/plain": [
       "[1, 1, 2, 3, 4, 5, 5, 7, 44, 45]"
      ]
     },
     "execution_count": 156,
     "metadata": {},
     "output_type": "execute_result"
    }
   ],
   "source": [
    "insertion_srt([2,4,5,1,1,5,3,45,7,44])"
   ]
  },
  {
   "cell_type": "code",
   "execution_count": null,
   "metadata": {
    "collapsed": true
   },
   "outputs": [],
   "source": []
  }
 ],
 "metadata": {
  "kernelspec": {
   "display_name": "Python 3",
   "language": "python",
   "name": "python3"
  },
  "language_info": {
   "codemirror_mode": {
    "name": "ipython",
    "version": 3
   },
   "file_extension": ".py",
   "mimetype": "text/x-python",
   "name": "python",
   "nbconvert_exporter": "python",
   "pygments_lexer": "ipython3",
   "version": "3.6.1"
  }
 },
 "nbformat": 4,
 "nbformat_minor": 2
}
