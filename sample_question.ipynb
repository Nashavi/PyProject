{
 "cells": [
  {
   "cell_type": "markdown",
   "metadata": {},
   "source": [
    "# Q1"
   ]
  },
  {
   "cell_type": "markdown",
   "metadata": {},
   "source": [
    "Write code to sample from a multinomial distribution.\n",
    "Inputs:\n",
    "- vector of probabilities, e.g. [0.2, 0.3, 0.4, 0.05, 0.05],\n",
    "- number of samples, e.g. 100  (N) .\n",
    "\n",
    "Output:\n",
    "- vector of counts for each bucket: e.g. [19, 31, 41, 4, 5]\n",
    "\n",
    "Use from random import random() that produces 0 - 1 random values"
   ]
  },
  {
   "cell_type": "code",
   "execution_count": 2,
   "metadata": {
    "collapsed": true
   },
   "outputs": [],
   "source": [
    "from random import random\n",
    "\n",
    "def get_samples(v,n):\n",
    "    \n",
    "    problist = []\n",
    "    \n",
    "    j = 0\n",
    "    \n",
    "    for i,p in enumerate(v):\n",
    "        j += p\n",
    "        problist.append(j)\n",
    "    \n",
    "    out =  [0]*len(problist)\n",
    "    \n",
    "    for i in range(1,n+1):\n",
    "        \n",
    "        rand_num = random()\n",
    "        \n",
    "        k = 0\n",
    "        while problist[k] < rand_num:\n",
    "            k += 1\n",
    "        out[k] += 1\n",
    "    \n",
    "    return out        "
   ]
  },
  {
   "cell_type": "code",
   "execution_count": 3,
   "metadata": {},
   "outputs": [
    {
     "data": {
      "text/plain": [
       "[50013, 19977, 30010]"
      ]
     },
     "execution_count": 3,
     "metadata": {},
     "output_type": "execute_result"
    }
   ],
   "source": [
    "get_samples([0.5,0.2,0.3], 100000)"
   ]
  },
  {
   "cell_type": "markdown",
   "metadata": {},
   "source": [
    "# Q2"
   ]
  },
  {
   "cell_type": "markdown",
   "metadata": {},
   "source": [
    "Suppose you have a stream of unique integers coming in 1 at a time,\n",
    "- for example: 2, 3, 9, -4, 5, -6, 45, 100, 7, 9, 0, …..\n",
    "\n",
    "You have only 1 memory location to store currently seen integer (i.e. only 1 variable), no other storage.  After some n integers, the stream stops.  When the stream stops, you are to return 1 of the previously seen integers with the following condition: the probability of returning of any of integers seen will be uniform, i.e. 1/n."
   ]
  },
  {
   "cell_type": "code",
   "execution_count": 48,
   "metadata": {
    "collapsed": true
   },
   "outputs": [],
   "source": [
    "from random import random\n",
    "\n",
    "def get_samples(stream):\n",
    "    \n",
    "    #Reservoir Sampling\n",
    "    \n",
    "    for k, ele in enumerate(stream):\n",
    "        set.seed()\n",
    "        random_n = random()\n",
    "        if k ==0:\n",
    "            sample = ele\n",
    "        elif random_n< (1/(k)):\n",
    "            sample = ele\n",
    "    \n",
    "    return sample"
   ]
  },
  {
   "cell_type": "code",
   "execution_count": 60,
   "metadata": {},
   "outputs": [
    {
     "data": {
      "text/plain": [
       "32"
      ]
     },
     "execution_count": 60,
     "metadata": {},
     "output_type": "execute_result"
    }
   ],
   "source": [
    "get_samples([1,2,3,5,23,2,5,32,5,3,6,8,8,9,34,6,45,5,67,45,2,46])"
   ]
  },
  {
   "cell_type": "code",
   "execution_count": null,
   "metadata": {
    "collapsed": true
   },
   "outputs": [],
   "source": []
  }
 ],
 "metadata": {
  "kernelspec": {
   "display_name": "Python 3",
   "language": "python",
   "name": "python3"
  },
  "language_info": {
   "codemirror_mode": {
    "name": "ipython",
    "version": 3
   },
   "file_extension": ".py",
   "mimetype": "text/x-python",
   "name": "python",
   "nbconvert_exporter": "python",
   "pygments_lexer": "ipython3",
   "version": "3.6.2"
  }
 },
 "nbformat": 4,
 "nbformat_minor": 2
}
