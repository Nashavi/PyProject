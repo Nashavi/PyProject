{
 "cells": [
  {
   "cell_type": "markdown",
   "metadata": {},
   "source": [
    "# Return the index of the numbers to give the certain target. Check the number only once"
   ]
  },
  {
   "cell_type": "markdown",
   "metadata": {},
   "source": [
    "nums = [2,7,11,15] target = 9"
   ]
  },
  {
   "cell_type": "code",
   "execution_count": 38,
   "metadata": {
    "collapsed": true
   },
   "outputs": [],
   "source": [
    "def get_ix_tosum(arr,num):\n",
    "    \n",
    "    if len(arr) <= 1:\n",
    "        return False\n",
    "    \n",
    "    ix_dict = {}\n",
    "    \n",
    "    for i,ele in enumerate(arr):\n",
    "        \n",
    "        target = num - ele\n",
    "        \n",
    "        if ele not in ix_dict:\n",
    "            ix_dict[target] = i\n",
    "        else:\n",
    "            return [ix_dict[ele],i]"
   ]
  },
  {
   "cell_type": "code",
   "execution_count": 39,
   "metadata": {},
   "outputs": [
    {
     "data": {
      "text/plain": [
       "[0, 1]"
      ]
     },
     "execution_count": 39,
     "metadata": {},
     "output_type": "execute_result"
    }
   ],
   "source": [
    "get_ix_tosum([2,7,11,15],9)"
   ]
  },
  {
   "cell_type": "markdown",
   "metadata": {},
   "source": [
    "# Reverse Integer"
   ]
  },
  {
   "cell_type": "markdown",
   "metadata": {},
   "source": [
    "123   =  321,    120   =  21"
   ]
  },
  {
   "cell_type": "code",
   "execution_count": 145,
   "metadata": {},
   "outputs": [],
   "source": [
    "def reverse(org_num):\n",
    "    \n",
    "    i = 1\n",
    "    \n",
    "    summed = 0\n",
    "    \n",
    "    num = abs(org_num)\n",
    "    \n",
    "    while num > 0:\n",
    "       \n",
    "        digit = num%10\n",
    "        \n",
    "        num = num//10\n",
    "        \n",
    "        summed = summed* (10) +digit\n",
    "        \n",
    "        i += 1\n",
    "        \n",
    "    if org_num <0:\n",
    "        return -summed\n",
    "    else:\n",
    "        return summed"
   ]
  },
  {
   "cell_type": "code",
   "execution_count": 147,
   "metadata": {},
   "outputs": [
    {
     "data": {
      "text/plain": [
       "33624283781"
      ]
     },
     "execution_count": 147,
     "metadata": {},
     "output_type": "execute_result"
    }
   ],
   "source": [
    "reverse(18738242633)"
   ]
  },
  {
   "cell_type": "markdown",
   "metadata": {},
   "source": [
    "# Integer Palindorme"
   ]
  },
  {
   "cell_type": "code",
   "execution_count": 167,
   "metadata": {
    "collapsed": true
   },
   "outputs": [],
   "source": [
    "def check_int(n):\n",
    "    \n",
    "    if -10 < n < 10:\n",
    "        return False\n",
    "    \n",
    "    m = n\n",
    "    reverse = 0\n",
    "    \n",
    "    while m:\n",
    "        reverse = reverse*10+ m%10\n",
    "        m = m//10\n",
    "    \n",
    "    return n == reverse"
   ]
  },
  {
   "cell_type": "code",
   "execution_count": 169,
   "metadata": {},
   "outputs": [
    {
     "data": {
      "text/plain": [
       "True"
      ]
     },
     "execution_count": 169,
     "metadata": {},
     "output_type": "execute_result"
    }
   ],
   "source": [
    "check_int(1221)"
   ]
  },
  {
   "cell_type": "code",
   "execution_count": 205,
   "metadata": {
    "collapsed": true
   },
   "outputs": [],
   "source": [
    "def check_int2(n):\n",
    "    \n",
    "    i = 10\n",
    "    \n",
    "    while n/i >= 10:\n",
    "        i *= 10\n",
    "    while n:\n",
    "        if n//i != n%10:\n",
    "            return False\n",
    "        n = (n%i)//10\n",
    "        i /= 100\n",
    "    return True"
   ]
  },
  {
   "cell_type": "code",
   "execution_count": 208,
   "metadata": {},
   "outputs": [
    {
     "data": {
      "text/plain": [
       "True"
      ]
     },
     "execution_count": 208,
     "metadata": {},
     "output_type": "execute_result"
    }
   ],
   "source": [
    "check_int2(1221)"
   ]
  },
  {
   "cell_type": "markdown",
   "metadata": {},
   "source": [
    "# Transpose Matrix"
   ]
  },
  {
   "cell_type": "code",
   "execution_count": 209,
   "metadata": {
    "collapsed": true
   },
   "outputs": [],
   "source": [
    "def transpose(mat):\n",
    "    \n",
    "    output = []\n",
    "    \n",
    "    for i in range(len(mat[0])):\n",
    "        \n",
    "        rlist = []\n",
    "        \n",
    "        for j in range(len(mat)):\n",
    "            \n",
    "            rlist.append(mat[j][i])\n",
    "        \n",
    "        output.append(rlist)\n",
    "        \n",
    "    return output"
   ]
  },
  {
   "cell_type": "code",
   "execution_count": 222,
   "metadata": {},
   "outputs": [
    {
     "name": "stdout",
     "output_type": "stream",
     "text": [
      "ALL TEST CASES PASSED\n"
     ]
    }
   ],
   "source": [
    "import unittest\n",
    "\n",
    "class Mytest(unittest.TestCase):\n",
    "    \n",
    "    def test_transpose(self):\n",
    "        input_mat = [[1,2,3,4],[5,6,7,8],[9,10,11,12]]\n",
    "        ouput_mat = [[1, 5, 9], [2, 6, 10], [3, 7, 11], [4, 8, 12]]\n",
    "        self.assertSequenceEqual(transpose(input_mat),ouput_mat)\n",
    "        print ('ALL TEST CASES PASSED')\n",
    "\n",
    "        \n",
    "t = Mytest()\n",
    "t.test_transpose()"
   ]
  },
  {
   "cell_type": "markdown",
   "metadata": {},
   "source": [
    "# Rotate Matrix"
   ]
  },
  {
   "cell_type": "code",
   "execution_count": 246,
   "metadata": {
    "collapsed": true
   },
   "outputs": [],
   "source": [
    "def rotate_by_90(mat):\n",
    "    \n",
    "    n = len(mat)\n",
    "    \n",
    "    for layer in range((n+1)//2):\n",
    "        first = layer\n",
    "        last = n - 1 - layer\n",
    "        for index in range(first,last,1):\n",
    "            \n",
    "            offset = index-first\n",
    "            \n",
    "            top = mat[first][index]\n",
    "            \n",
    "            mat[first][index] = mat[last-offset][first]\n",
    "            \n",
    "            mat[last-offset][first] = mat[last][last-offset]\n",
    "            \n",
    "            mat[last][last-offset] = mat[index][last]\n",
    "            \n",
    "            mat[index][last] = top\n",
    "            \n",
    "    return mat"
   ]
  },
  {
   "cell_type": "code",
   "execution_count": 247,
   "metadata": {
    "collapsed": true
   },
   "outputs": [],
   "source": [
    "A = [[1,2,3],[4,5,6],[7,8,9]]"
   ]
  },
  {
   "cell_type": "code",
   "execution_count": 248,
   "metadata": {
    "collapsed": true
   },
   "outputs": [],
   "source": [
    "B = [[3,6,9],[2,5,8],[1,4,7]]"
   ]
  },
  {
   "cell_type": "code",
   "execution_count": 259,
   "metadata": {},
   "outputs": [
    {
     "name": "stdout",
     "output_type": "stream",
     "text": [
      "All Test Cases Passed\n"
     ]
    }
   ],
   "source": [
    "import unittest\n",
    "\n",
    "class Mytest(unittest.TestCase):\n",
    "    \n",
    "    def test_rotate_by_90(self):\n",
    "        input_matrix = [[1,2,3],[4,5,6],[7,8,9]]\n",
    "        output_matrix = [[7,4,1],[8,5,2],[9,6,3]]\n",
    "        \n",
    "        self.assertSequenceEqual(rotate_by_90(input_matrix),output_matrix)\n",
    "        \n",
    "        print(\"All Test Cases Passed\")\n",
    "\n",
    "t = Mytest()\n",
    "t.test_rotate_by_90()"
   ]
  },
  {
   "cell_type": "markdown",
   "metadata": {},
   "source": [
    "# Print matrix in a spiral fashion"
   ]
  },
  {
   "cell_type": "code",
   "execution_count": 511,
   "metadata": {},
   "outputs": [],
   "source": [
    "def print_spirally(mat):\n",
    "    \n",
    "    last_col = len(mat) -1\n",
    "    \n",
    "    last_row = len(mat[0]) - 1\n",
    "    \n",
    "    i,j = 0,0\n",
    "    \n",
    "    out= []\n",
    "    \n",
    "    while i <=last_row  and j <= last_col:\n",
    "        \n",
    "        for k in range(i,last_col+1,1):\n",
    "#             print(mat[k][j],end=\"\")\n",
    "            out.append(mat[k][j])\n",
    "        i += 1\n",
    "        \n",
    "        for k in range(i,last_row+1,1):\n",
    "#             print(mat[last_col][k],end=\"\")\n",
    "            out.append(mat[last_col][k])\n",
    "        last_col -= 1\n",
    "        \n",
    "        if i<=last_row:\n",
    "            for k in range(last_col,j-1,-1):\n",
    "#                 print(mat[k][last_row],end=\"\")\n",
    "                out.append(mat[k][last_row])\n",
    "            last_row -= 1\n",
    "\n",
    "        \n",
    "        if j<=last_col:\n",
    "            for k in range(last_row,i-1,-1):\n",
    "#                 print(mat[j][k],end=\"\")\n",
    "                out.append(mat[j][k])\n",
    "            j += 1\n",
    "        \n",
    "        \n",
    "    return out"
   ]
  },
  {
   "cell_type": "code",
   "execution_count": 620,
   "metadata": {},
   "outputs": [
    {
     "name": "stdout",
     "output_type": "stream",
     "text": [
      "All Test Cases Passed\n"
     ]
    }
   ],
   "source": [
    "import unittest\n",
    "\n",
    "class Mytest(unittest.TestCase):\n",
    "    \n",
    "    def test_print_spirally(self):\n",
    "        input_mat1 = [[7, 4, 1], [8, 5, 2], [9, 6, 3]]\n",
    "        output_mat1 = [7, 8, 9, 6, 3, 2, 1, 4, 5]\n",
    "        input_mat2 = [[1,2,3],[4,5,6],[7,8,9],[10,11,12]]\n",
    "        output_mat2 = [1, 4, 7, 10, 11, 12, 9, 6, 3, 2, 5, 8]\n",
    "        self.assertEqual(print_spirally(input_mat1),output_mat1)\n",
    "        self.assertEqual(print_spirally(input_mat2),output_mat2)\n",
    "        print(\"All Test Cases Passed\")\n",
    "\n",
    "Mytest().test_print_spirally()"
   ]
  },
  {
   "cell_type": "markdown",
   "metadata": {},
   "source": [
    "# Print Matrix diagonally"
   ]
  },
  {
   "cell_type": "code",
   "execution_count": 635,
   "metadata": {},
   "outputs": [],
   "source": [
    "def print_diagonally(mat):\n",
    "    \n",
    "    last_col = len(mat)\n",
    "    last_row = len(mat[0])\n",
    "    \n",
    "    for i in range(last_row):\n",
    "        \n",
    "        j =0\n",
    "        \n",
    "        while i >= 0:\n",
    "        \n",
    "            print(mat[j][i])\n",
    "            \n",
    "            j += 1\n",
    "            i -= 1\n",
    "            \n",
    "    for j in range(1,last_col):\n",
    "        \n",
    "        i = last_row-1\n",
    "        \n",
    "        while i >= 0 and j<= last_col-1:\n",
    "        \n",
    "            print(mat[j][i])\n",
    "            \n",
    "            j += 1\n",
    "            i -= 1"
   ]
  },
  {
   "cell_type": "markdown",
   "metadata": {},
   "source": [
    "# Unlist list of lists"
   ]
  },
  {
   "cell_type": "code",
   "execution_count": 663,
   "metadata": {
    "collapsed": true
   },
   "outputs": [],
   "source": [
    "def unlist(listoflists,outlist =[]):\n",
    "    \n",
    "    if len(listoflists) == 0:\n",
    "        return\n",
    "    \n",
    "    if len(listoflists) == 1:\n",
    "        return outlist.append(listoflists[0])\n",
    "    \n",
    "    for i in range(len(listoflists)):\n",
    "        \n",
    "        if type(listoflists[i]) == type([]):\n",
    "            unlist(listoflists[i],outlist)\n",
    "        \n",
    "        else:\n",
    "            outlist.append(listoflists[i])\n",
    "            \n",
    "    \n",
    "    return outlist"
   ]
  },
  {
   "cell_type": "markdown",
   "metadata": {},
   "source": [
    "# Search for a number in a sorted matrix"
   ]
  },
  {
   "cell_type": "code",
   "execution_count": 675,
   "metadata": {
    "collapsed": true
   },
   "outputs": [],
   "source": [
    "def search_in(mat,n):\n",
    "    \n",
    "    last_col = len(mat)-1\n",
    "    \n",
    "    last_row = len(mat[0])\n",
    "    \n",
    "    i = 0\n",
    "    \n",
    "    while i < last_row and last_col >= 0:\n",
    "        \n",
    "        print(\"Checking for\",mat[last_col][i])\n",
    "        if mat[last_col][i] == n :\n",
    "            \n",
    "            print (\"Found\")\n",
    "            \n",
    "            return\n",
    "        \n",
    "        elif mat[last_col][i] < n:\n",
    "            \n",
    "            i += 1\n",
    "            \n",
    "        else:\n",
    "            \n",
    "            last_col -= 1\n",
    "        \n",
    "    print(\"Not found\")\n",
    "    return"
   ]
  },
  {
   "cell_type": "markdown",
   "metadata": {},
   "source": [
    "# Segregate +ve and -ve elements in an array"
   ]
  },
  {
   "cell_type": "code",
   "execution_count": 703,
   "metadata": {},
   "outputs": [
    {
     "name": "stdout",
     "output_type": "stream",
     "text": [
      "All test cases passed\n"
     ]
    }
   ],
   "source": [
    "def segregate(arr):\n",
    "    \n",
    "    i,j = 0, len(arr)-1\n",
    "    \n",
    "    \n",
    "    while j > i:\n",
    "        \n",
    "        while arr[i] <0:\n",
    "            i += 1\n",
    "        while arr[j] >0:\n",
    "            j -= 1\n",
    "        if i < j:\n",
    "            arr[i],arr[j] = arr[j],arr[i]\n",
    "            i += 1\n",
    "            j -= 1\n",
    "        else:\n",
    "            break\n",
    "            \n",
    "    return arr\n",
    "\n",
    "import unittest\n",
    "\n",
    "class Mytest(unittest.TestCase):\n",
    "    \n",
    "    def test_segregate(self):\n",
    "        \n",
    "        input1 = [-2,4,2,5,-35,3,-35,3]\n",
    "        output1 = [-2,-35,-35,5,2,3,4,3]\n",
    "        self.assertListEqual(segregate(input1),output1)\n",
    "        print(\"All test cases passed\")\n",
    "        \n",
    "        \n",
    "Mytest().test_segregate()"
   ]
  },
  {
   "cell_type": "code",
   "execution_count": null,
   "metadata": {
    "collapsed": true
   },
   "outputs": [],
   "source": []
  }
 ],
 "metadata": {
  "kernelspec": {
   "display_name": "Python 3",
   "language": "python",
   "name": "python3"
  },
  "language_info": {
   "codemirror_mode": {
    "name": "ipython",
    "version": 3
   },
   "file_extension": ".py",
   "mimetype": "text/x-python",
   "name": "python",
   "nbconvert_exporter": "python",
   "pygments_lexer": "ipython3",
   "version": "3.6.2"
  }
 },
 "nbformat": 4,
 "nbformat_minor": 2
}
